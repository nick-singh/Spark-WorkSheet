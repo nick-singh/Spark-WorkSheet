{
 "cells": [
  {
   "cell_type": "code",
   "execution_count": 1,
   "metadata": {},
   "outputs": [],
   "source": [
    "import pyspark\n",
    "from pyspark.sql import SQLContext\n",
    "from pyspark.sql import Row\n",
    "from pyspark.sql.types import *\n",
    "from pyspark.sql.functions import *\n",
    "from collections import Counter\n",
    "\n",
    "sc = pyspark.SparkContext.getOrCreate()\n",
    "sql_c = SQLContext(sc)"
   ]
  },
  {
   "cell_type": "code",
   "execution_count": 2,
   "metadata": {},
   "outputs": [
    {
     "name": "stdout",
     "output_type": "stream",
     "text": [
      "[('a', 4), ('e', 5), ('i', 1), ('m', 1), ('q', 1)]\n"
     ]
    }
   ],
   "source": [
    "s = \"The quick brown fox jumps over the lazy dog and the fox was very happy\"\n",
    "word = s.lower().split(' ')\n",
    "freq = [dict(Counter(w))  for w in word]\n",
    "tuples = []\n",
    "for f in freq:\n",
    "    for k,v in f.iteritems():\n",
    "        tuples.append((k,v))\n",
    "r = sc.parallelize(tuples)\n",
    "r.take(2)\n",
    "letter_count = r.reduceByKey(lambda x, y: x+y)\n",
    "print(letter_count.take(5))"
   ]
  },
  {
   "cell_type": "code",
   "execution_count": 3,
   "metadata": {},
   "outputs": [
    {
     "data": {
      "text/plain": [
       "[('a', [1, 1, 1, 1]), ('e', [1, 1, 1, 1, 1]), ('i', [1]), ('m', [1])]"
      ]
     },
     "execution_count": 3,
     "metadata": {},
     "output_type": "execute_result"
    }
   ],
   "source": [
    "grp_k = r.groupByKey()\n",
    "grp_k.map(lambda x:(x[0], list(x[1]))).take(4)"
   ]
  },
  {
   "cell_type": "code",
   "execution_count": 17,
   "metadata": {},
   "outputs": [
    {
     "data": {
      "text/plain": [
       "[u',id,name,username',\n",
       " u'0,AVpe7AsMilAPnD_xQ78G,Kindle Paperwhite,Cristina M',\n",
       " u'1,AVpe7AsMilAPnD_xQ78G,Kindle Paperwhite,Ricky',\n",
       " u'2,AVpe7AsMilAPnD_xQ78G,Kindle Paperwhite,Tedd Gardiner',\n",
       " u'3,AVpe7AsMilAPnD_xQ78G,Kindle Paperwhite,Dougal',\n",
       " u'4,AVpe7AsMilAPnD_xQ78G,Kindle Paperwhite,Miljan David Tanic',\n",
       " u'5,AVpe7AsMilAPnD_xQ78G,Kindle Paperwhite,Kelvin Law',\n",
       " u'6,AVpe7AsMilAPnD_xQ78G,Kindle Paperwhite,Ricky',\n",
       " u'7,AVpe7AsMilAPnD_xQ78G,Kindle Paperwhite,Bandler',\n",
       " u'8,AVpe7AsMilAPnD_xQ78G,Kindle Paperwhite,Cristina M']"
      ]
     },
     "execution_count": 17,
     "metadata": {},
     "output_type": "execute_result"
    }
   ],
   "source": [
    "reviews = sc.textFile('amazon_reviews.csv')\n",
    "reviews.take(10)"
   ]
  },
  {
   "cell_type": "code",
   "execution_count": 5,
   "metadata": {},
   "outputs": [],
   "source": [
    "head = reviews.first()\n",
    "header = sc.parallelize([head])\n",
    "reviews = reviews.subtract(header)\n",
    "reviews = reviews.map(lambda line: line.split(',')).map(lambda x: Row(blank = x[0], id = x[1],  product = x[2],  username = x[3]))"
   ]
  },
  {
   "cell_type": "code",
   "execution_count": 18,
   "metadata": {},
   "outputs": [
    {
     "data": {
      "text/plain": [
       "[u',id,name,username',\n",
       " u'0,AVpe7AsMilAPnD_xQ78G,Kindle Paperwhite,Cristina M',\n",
       " u'1,AVpe7AsMilAPnD_xQ78G,Kindle Paperwhite,Ricky',\n",
       " u'2,AVpe7AsMilAPnD_xQ78G,Kindle Paperwhite,Tedd Gardiner',\n",
       " u'3,AVpe7AsMilAPnD_xQ78G,Kindle Paperwhite,Dougal',\n",
       " u'4,AVpe7AsMilAPnD_xQ78G,Kindle Paperwhite,Miljan David Tanic',\n",
       " u'5,AVpe7AsMilAPnD_xQ78G,Kindle Paperwhite,Kelvin Law',\n",
       " u'6,AVpe7AsMilAPnD_xQ78G,Kindle Paperwhite,Ricky',\n",
       " u'7,AVpe7AsMilAPnD_xQ78G,Kindle Paperwhite,Bandler',\n",
       " u'8,AVpe7AsMilAPnD_xQ78G,Kindle Paperwhite,Cristina M']"
      ]
     },
     "execution_count": 18,
     "metadata": {},
     "output_type": "execute_result"
    }
   ],
   "source": [
    "reviews.take(10)"
   ]
  },
  {
   "cell_type": "code",
   "execution_count": 7,
   "metadata": {},
   "outputs": [],
   "source": [
    "df = sql_c.createDataFrame(reviews)"
   ]
  },
  {
   "cell_type": "code",
   "execution_count": 19,
   "metadata": {},
   "outputs": [
    {
     "name": "stdout",
     "output_type": "stream",
     "text": [
      "+-----+--------------------+--------------------+------------------+\n",
      "|blank|                  id|             product|          username|\n",
      "+-----+--------------------+--------------------+------------------+\n",
      "|  658|AVzRlpC2vKc47QAVd5FA|All-New Amazon Ki...|     Betty Jaggers|\n",
      "|  370|AVpfLiCSilAPnD_xWpk_|      Amazon Fire TV|  Gregory P. Baker|\n",
      "| 1470|AVpge-anilAPnD_xtDVf|Amazon Premium He...|         A. Younan|\n",
      "|  226|AVphEeRyilAPnD_x035P|Fire Kids Edition...|      Peter Rodick|\n",
      "| 1338|AVpfpK8KLJeJML43BCuD|Amazon Tap - Alex...|         Bugbasher|\n",
      "| 1169|AVpfpK8KLJeJML43BCuD|Amazon Tap - Alex...|           Risha37|\n",
      "| 1406|AVsRilrqnnc1JgDc34jd|Alexa Voice Remot...|  Jeffrey N. Fritz|\n",
      "|  335|AVpfLiCSilAPnD_xWpk_|      Amazon Fire TV|Debora Helen Akers|\n",
      "|  843|AVpe7LD5LJeJML43ybWA|\"Kindle Fire HDX ...|                NF|\n",
      "| 1392|AVpfpK8KLJeJML43BCuD|Amazon Tap - Alex...|           Melody9|\n",
      "+-----+--------------------+--------------------+------------------+\n",
      "only showing top 10 rows\n",
      "\n"
     ]
    }
   ],
   "source": [
    "df.show(10)"
   ]
  },
  {
   "cell_type": "code",
   "execution_count": 20,
   "metadata": {},
   "outputs": [
    {
     "name": "stdout",
     "output_type": "stream",
     "text": [
      "+--------------------+-----+\n",
      "|             product|count|\n",
      "+--------------------+-----+\n",
      "|Amazon Tap - Alex...|  542|\n",
      "|      Amazon Fire TV|  166|\n",
      "|Amazon Premium He...|  133|\n",
      "|    Fire HD 6 Tablet|   87|\n",
      "|\"Kindle Fire HDX ...|   53|\n",
      "|\"Kindle Fire HDX ...|   43|\n",
      "|\"Kindle Fire HD 7\"\"\"|   41|\n",
      "|   Kindle Paperwhite|   39|\n",
      "|Certified Refurbi...|   38|\n",
      "|     Kindle Keyboard|   32|\n",
      "|All-New Amazon Fi...|   27|\n",
      "|              Kindle|   20|\n",
      "|Amazon 5W USB Off...|   19|\n",
      "|All-New Amazon Fi...|   18|\n",
      "|Replacement Remot...|   17|\n",
      "|Echo Dot (2nd Gen...|   13|\n",
      "|All-New Amazon Ki...|   13|\n",
      "|Moshi Anti-Glare ...|   12|\n",
      "|All-New Amazon Ki...|   12|\n",
      "|Alexa Voice Remot...|   12|\n",
      "+--------------------+-----+\n",
      "only showing top 20 rows\n",
      "\n"
     ]
    }
   ],
   "source": [
    "df.select('product','username').groupby('product').count().sort(desc(\"count\")).show()"
   ]
  },
  {
   "cell_type": "code",
   "execution_count": 21,
   "metadata": {},
   "outputs": [
    {
     "name": "stdout",
     "output_type": "stream",
     "text": [
      "+-------------------+--------------------+-----+\n",
      "|           username|             product|count|\n",
      "+-------------------+--------------------+-----+\n",
      "|          A. Younan|Amazon Premium He...|   59|\n",
      "|             Andrew|Amazon Premium He...|   43|\n",
      "|          Victor L.|Amazon Premium He...|   30|\n",
      "|     William Hardin|    Fire HD 6 Tablet|   30|\n",
      "|            Mike W.|    Fire HD 6 Tablet|   29|\n",
      "|      Earthling1984|    Fire HD 6 Tablet|   28|\n",
      "|     William Hardin|      Amazon Fire TV|   16|\n",
      "|         B. Tarbuck|\"Kindle Fire HDX ...|   16|\n",
      "|              Mandy|      Amazon Fire TV|   16|\n",
      "|                 NF|\"Kindle Fire HDX ...|   15|\n",
      "|    Amazon Reviewer|\"Kindle Fire HDX ...|   14|\n",
      "|                 NF|\"Kindle Fire HD 7\"\"\"|   14|\n",
      "|    Amazon Reviewer|\"Kindle Fire HDX ...|   13|\n",
      "|  Michael Gallagher|\"Kindle Fire HDX ...|   12|\n",
      "|             Dallas|      Amazon Fire TV|   12|\n",
      "|     William Hardin|Certified Refurbi...|   12|\n",
      "|   Gregory P. Baker|      Amazon Fire TV|   11|\n",
      "|              MarkM|\"Kindle Fire HD 7\"\"\"|   10|\n",
      "|              Mandy|Certified Refurbi...|   10|\n",
      "|\"Things I Love Like|\"Kindle Fire HDX ...|    9|\n",
      "+-------------------+--------------------+-----+\n",
      "only showing top 20 rows\n",
      "\n"
     ]
    }
   ],
   "source": [
    "df.select('product','username').groupby('username', 'product').count().sort(desc(\"count\")).show()"
   ]
  },
  {
   "cell_type": "code",
   "execution_count": 23,
   "metadata": {},
   "outputs": [
    {
     "data": {
      "text/plain": [
       "[(u'All-New Amazon Kid-Proof Case for Amazon Fire HD 8 Tablet (7th Generation',\n",
       "  1),\n",
       " (u'Amazon Fire TV', 1),\n",
       " (u'Amazon Premium Headphones', 1),\n",
       " (u'Fire Kids Edition Tablet', 1),\n",
       " (u'Amazon Tap - Alexa-Enabled Portable Bluetooth Speaker', 1),\n",
       " (u'Amazon Tap - Alexa-Enabled Portable Bluetooth Speaker', 1),\n",
       " (u'Alexa Voice Remote for Amazon Echo and Echo Dot', 1),\n",
       " (u'Amazon Fire TV', 1),\n",
       " (u'Kindle Fire HDX 7', 1),\n",
       " (u'Amazon Tap - Alexa-Enabled Portable Bluetooth Speaker', 1)]"
      ]
     },
     "execution_count": 23,
     "metadata": {},
     "output_type": "execute_result"
    }
   ],
   "source": [
    "df2 = df['product', 'username']\n",
    "rdd = df2.rdd.map(tuple)\n",
    "rdd = rdd.map(lambda x: (x[0].replace('\"',''), 1))\n",
    "rdd.take(10)\n",
    "# user_to_prod = rdd.groupByKey()\n",
    "# user_to_prod.collect()"
   ]
  },
  {
   "cell_type": "code",
   "execution_count": 24,
   "metadata": {},
   "outputs": [
    {
     "data": {
      "text/plain": [
       "[(u'Amazon Tap - Alexa-Enabled Portable Bluetooth Speaker', 542),\n",
       " (u'Amazon Fire TV', 166),\n",
       " (u'Amazon Premium Headphones', 133),\n",
       " (u'Fire HD 6 Tablet', 87),\n",
       " (u'Kindle Fire HDX 7', 53),\n",
       " (u'Kindle Fire HDX 8.9', 43),\n",
       " (u'Kindle Fire HD 7', 41),\n",
       " (u'Kindle Paperwhite', 39),\n",
       " (u'Certified Refurbished Amazon Fire TV (Previous Generation - 1st)', 38),\n",
       " (u'Kindle Keyboard', 32)]"
      ]
     },
     "execution_count": 24,
     "metadata": {},
     "output_type": "execute_result"
    }
   ],
   "source": [
    "# user_prod_list = user_to_prod.map(lambda x: (x[0].replace('\"',''), len(list(x[1]))))\n",
    "# user_prod_list.sortBy(lambda x: x[1], ascending=False).take(10)\n",
    "rdd.reduceByKey(lambda v1,v2: v1 + v2).sortBy(lambda x: x[1], ascending=False).take(10)"
   ]
  },
  {
   "cell_type": "code",
   "execution_count": 25,
   "metadata": {},
   "outputs": [
    {
     "data": {
      "text/plain": [
       "[(u'Pete', <pyspark.resultiterable.ResultIterable at 0x10eb79690>),\n",
       " (u'Blue', <pyspark.resultiterable.ResultIterable at 0x10eb79850>),\n",
       " (u'In4dfun2', <pyspark.resultiterable.ResultIterable at 0x10eb79890>),\n",
       " (u'Harper', <pyspark.resultiterable.ResultIterable at 0x10eb798d0>),\n",
       " (u'Hunter', <pyspark.resultiterable.ResultIterable at 0x10eb79910>),\n",
       " (u'Tinkerer', <pyspark.resultiterable.ResultIterable at 0x10eb79950>),\n",
       " (u'agzela', <pyspark.resultiterable.ResultIterable at 0x10eb79990>),\n",
       " (u'Czer', <pyspark.resultiterable.ResultIterable at 0x10eb799d0>),\n",
       " (u'SBgamer', <pyspark.resultiterable.ResultIterable at 0x10eb79a10>),\n",
       " (u'Tracy', <pyspark.resultiterable.ResultIterable at 0x10eb79a50>)]"
      ]
     },
     "execution_count": 25,
     "metadata": {},
     "output_type": "execute_result"
    }
   ],
   "source": [
    "df3 = df['username', 'product']\n",
    "df3 = df3[df3['username'] != 'Amazon Customer'] #remove generic username\n",
    "user_prod = df3.rdd.map(tuple)\n",
    "user_prod = user_prod.groupByKey()\n",
    "user_prod.take(10)"
   ]
  },
  {
   "cell_type": "code",
   "execution_count": 26,
   "metadata": {},
   "outputs": [
    {
     "data": {
      "text/plain": [
       "[(u'A. Younan',\n",
       "  [u'Amazon Premium Headphones',\n",
       "   u'Amazon Premium Headphones',\n",
       "   u'Amazon Premium Headphones',\n",
       "   u'Amazon Premium Headphones',\n",
       "   u'Amazon Premium Headphones',\n",
       "   u'Amazon Premium Headphones',\n",
       "   u'Amazon Premium Headphones',\n",
       "   u'Amazon Premium Headphones',\n",
       "   u'Amazon Premium Headphones',\n",
       "   u'Amazon Premium Headphones',\n",
       "   u'Amazon Premium Headphones',\n",
       "   u'Amazon Premium Headphones',\n",
       "   u'Amazon Premium Headphones',\n",
       "   u'Amazon Premium Headphones',\n",
       "   u'Amazon Premium Headphones',\n",
       "   u'Amazon Premium Headphones',\n",
       "   u'Amazon Premium Headphones',\n",
       "   u'Amazon Premium Headphones',\n",
       "   u'Amazon Premium Headphones',\n",
       "   u'Amazon Premium Headphones',\n",
       "   u'Amazon Premium Headphones',\n",
       "   u'Amazon Premium Headphones',\n",
       "   u'Amazon Premium Headphones',\n",
       "   u'Amazon Premium Headphones',\n",
       "   u'Amazon Premium Headphones',\n",
       "   u'Amazon Premium Headphones',\n",
       "   u'Amazon Premium Headphones',\n",
       "   u'Amazon Premium Headphones',\n",
       "   u'Amazon Premium Headphones',\n",
       "   u'Amazon Premium Headphones',\n",
       "   u'Amazon Premium Headphones',\n",
       "   u'Amazon Premium Headphones',\n",
       "   u'Amazon Premium Headphones',\n",
       "   u'Amazon Premium Headphones',\n",
       "   u'Amazon Premium Headphones',\n",
       "   u'Amazon Premium Headphones',\n",
       "   u'Amazon Premium Headphones',\n",
       "   u'Amazon Premium Headphones',\n",
       "   u'Amazon Premium Headphones',\n",
       "   u'Amazon Premium Headphones',\n",
       "   u'Amazon Premium Headphones',\n",
       "   u'Amazon Premium Headphones',\n",
       "   u'Amazon Premium Headphones',\n",
       "   u'Amazon Premium Headphones',\n",
       "   u'Amazon Premium Headphones',\n",
       "   u'Amazon Premium Headphones',\n",
       "   u'Amazon Premium Headphones',\n",
       "   u'Amazon Premium Headphones',\n",
       "   u'Amazon Premium Headphones',\n",
       "   u'Amazon Premium Headphones',\n",
       "   u'Amazon Premium Headphones',\n",
       "   u'Amazon Premium Headphones',\n",
       "   u'Amazon Premium Headphones',\n",
       "   u'Amazon Premium Headphones',\n",
       "   u'Amazon Premium Headphones',\n",
       "   u'Amazon Premium Headphones',\n",
       "   u'Amazon Premium Headphones',\n",
       "   u'Amazon Premium Headphones',\n",
       "   u'Amazon Premium Headphones']),\n",
       " (u'William Hardin',\n",
       "  [u'Fire HD 6 Tablet',\n",
       "   u'Amazon Fire TV',\n",
       "   u'Amazon Fire TV',\n",
       "   u'Certified Refurbished Amazon Fire TV (Previous Generation - 1st)',\n",
       "   u'Certified Refurbished Amazon Fire TV (Previous Generation - 1st)',\n",
       "   u'Certified Refurbished Amazon Fire TV (Previous Generation - 1st)',\n",
       "   u'Fire HD 6 Tablet',\n",
       "   u'Amazon Fire TV',\n",
       "   u'Fire HD 6 Tablet',\n",
       "   u'Fire HD 6 Tablet',\n",
       "   u'Fire HD 6 Tablet',\n",
       "   u'Amazon Fire TV',\n",
       "   u'Certified Refurbished Amazon Fire TV (Previous Generation - 1st)',\n",
       "   u'Amazon Fire TV',\n",
       "   u'Fire HD 6 Tablet',\n",
       "   u'Amazon Fire TV',\n",
       "   u'Certified Refurbished Amazon Fire TV (Previous Generation - 1st)',\n",
       "   u'Fire HD 6 Tablet',\n",
       "   u'Fire HD 6 Tablet',\n",
       "   u'Fire HD 6 Tablet',\n",
       "   u'Fire HD 6 Tablet',\n",
       "   u'Fire HD 6 Tablet',\n",
       "   u'Fire HD 6 Tablet',\n",
       "   u'Amazon Fire TV',\n",
       "   u'Amazon Fire TV',\n",
       "   u'Fire HD 6 Tablet',\n",
       "   u'Fire HD 6 Tablet',\n",
       "   u'Amazon Fire TV',\n",
       "   u'Fire HD 6 Tablet',\n",
       "   u'Amazon Fire TV',\n",
       "   u'Amazon Fire TV',\n",
       "   u'Fire HD 6 Tablet',\n",
       "   u'Fire HD 6 Tablet',\n",
       "   u'Fire HD 6 Tablet',\n",
       "   u'Certified Refurbished Amazon Fire TV (Previous Generation - 1st)',\n",
       "   u'Certified Refurbished Amazon Fire TV (Previous Generation - 1st)',\n",
       "   u'Certified Refurbished Amazon Fire TV (Previous Generation - 1st)',\n",
       "   u'Amazon Fire TV',\n",
       "   u'Fire HD 6 Tablet',\n",
       "   u'Fire HD 6 Tablet',\n",
       "   u'Certified Refurbished Amazon Fire TV (Previous Generation - 1st)',\n",
       "   u'Fire HD 6 Tablet',\n",
       "   u'Fire HD 6 Tablet',\n",
       "   u'Certified Refurbished Amazon Fire TV (Previous Generation - 1st)',\n",
       "   u'Fire HD 6 Tablet',\n",
       "   u'Fire HD 6 Tablet',\n",
       "   u'Fire HD 6 Tablet',\n",
       "   u'Amazon Fire TV',\n",
       "   u'Certified Refurbished Amazon Fire TV (Previous Generation - 1st)',\n",
       "   u'Fire HD 6 Tablet',\n",
       "   u'Certified Refurbished Amazon Fire TV (Previous Generation - 1st)',\n",
       "   u'Amazon Fire TV',\n",
       "   u'Fire HD 6 Tablet',\n",
       "   u'Amazon Fire TV',\n",
       "   u'Amazon Fire TV',\n",
       "   u'Fire HD 6 Tablet',\n",
       "   u'Fire HD 6 Tablet',\n",
       "   u'Fire HD 6 Tablet'])]"
      ]
     },
     "execution_count": 26,
     "metadata": {},
     "output_type": "execute_result"
    }
   ],
   "source": [
    "# user_prod_list = user_prod.map(lambda x: (x[0], list(x[1]))).sortBy(lambda x: len(x[1]), ascending=False).collect()\n",
    "user_prod_list = user_prod.map(lambda x: (x[0], [p.replace('\"','') for p in list(x[1])]))\n",
    "user_prod_list.sortBy(lambda x: len(x[1]), ascending=False).take(2)"
   ]
  },
  {
   "cell_type": "code",
   "execution_count": 27,
   "metadata": {},
   "outputs": [
    {
     "data": {
      "text/plain": [
       "[(u'Pete', ({u'Amazon Tap - Alexa-Enabled Portable Bluetooth Speaker': 1}, 1)),\n",
       " (u'Blue', ({u'Amazon Tap - Alexa-Enabled Portable Bluetooth Speaker': 1}, 1)),\n",
       " (u'In4dfun2',\n",
       "  ({u'Amazon Tap - Alexa-Enabled Portable Bluetooth Speaker': 1}, 1)),\n",
       " (u'Harper',\n",
       "  ({u'Amazon Tap - Alexa-Enabled Portable Bluetooth Speaker': 1}, 1)),\n",
       " (u'Hunter',\n",
       "  ({u'Amazon Tap - Alexa-Enabled Portable Bluetooth Speaker': 1}, 1)),\n",
       " (u'Tinkerer',\n",
       "  ({u'Amazon Tap - Alexa-Enabled Portable Bluetooth Speaker': 1}, 1)),\n",
       " (u'agzela',\n",
       "  ({u'Amazon Tap - Alexa-Enabled Portable Bluetooth Speaker': 1}, 1)),\n",
       " (u'Czer', ({u'Amazon Tap - Alexa-Enabled Portable Bluetooth Speaker': 1}, 1)),\n",
       " (u'SBgamer',\n",
       "  ({u'Amazon Tap - Alexa-Enabled Portable Bluetooth Speaker': 1}, 1)),\n",
       " (u'Tracy', ({u'Kindle': 1}, 1))]"
      ]
     },
     "execution_count": 27,
     "metadata": {},
     "output_type": "execute_result"
    }
   ],
   "source": [
    "user_prod_list_count = user_prod_list.map(lambda x: (x[0],(dict(Counter(x[1])), len(x[1]))))\n",
    "user_prod_list_count.take(10)"
   ]
  },
  {
   "cell_type": "code",
   "execution_count": 28,
   "metadata": {},
   "outputs": [
    {
     "data": {
      "text/plain": [
       "[(u'A. Younan', ({u'Amazon Premium Headphones': 59}, 59)),\n",
       " (u'William Hardin',\n",
       "  ({u'Amazon Fire TV': 16,\n",
       "    u'Certified Refurbished Amazon Fire TV (Previous Generation - 1st)': 12,\n",
       "    u'Fire HD 6 Tablet': 30},\n",
       "   58)),\n",
       " (u'Andrew', ({u'Amazon Premium Headphones': 43}, 43)),\n",
       " (u'Victor L.', ({u'Amazon Premium Headphones': 30}, 30)),\n",
       " (u'NF', ({u'Kindle Fire HD 7': 14, u'Kindle Fire HDX 7': 15}, 29)),\n",
       " (u'Mike W.', ({u'Fire HD 6 Tablet': 29}, 29)),\n",
       " (u'Earthling1984', ({u'Fire HD 6 Tablet': 28}, 28)),\n",
       " (u'Amazon Reviewer',\n",
       "  ({u'Kindle Fire HDX 7': 13, u'Kindle Fire HDX 8.9': 14}, 27)),\n",
       " (u'Mandy',\n",
       "  ({u'Amazon Fire TV': 16,\n",
       "    u'Certified Refurbished Amazon Fire TV (Previous Generation - 1st)': 10},\n",
       "   26)),\n",
       " (u'Dallas',\n",
       "  ({u'Amazon Fire TV': 12,\n",
       "    u'Certified Refurbished Amazon Fire TV (Previous Generation - 1st)': 8},\n",
       "   20))]"
      ]
     },
     "execution_count": 28,
     "metadata": {},
     "output_type": "execute_result"
    }
   ],
   "source": [
    "user_prod_list_count.sortBy(lambda x: x[1][1], ascending=False).take(10)"
   ]
  },
  {
   "cell_type": "code",
   "execution_count": null,
   "metadata": {},
   "outputs": [],
   "source": []
  }
 ],
 "metadata": {
  "kernelspec": {
   "display_name": "Python 2",
   "language": "python",
   "name": "python2"
  },
  "language_info": {
   "codemirror_mode": {
    "name": "ipython",
    "version": 2
   },
   "file_extension": ".py",
   "mimetype": "text/x-python",
   "name": "python",
   "nbconvert_exporter": "python",
   "pygments_lexer": "ipython2",
   "version": "2.7.10"
  }
 },
 "nbformat": 4,
 "nbformat_minor": 2
}
